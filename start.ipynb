{
 "cells": [
  {
   "cell_type": "code",
   "execution_count": 26,
   "metadata": {},
   "outputs": [],
   "source": [
    "import pandas as pd\n",
    "from ydata_profiling import ProfileReport\n",
    "import matplotlib.pyplot as plt\n",
    "\n",
    "pd.set_option('display.max_columns', None)"
   ]
  },
  {
   "cell_type": "code",
   "execution_count": 32,
   "metadata": {},
   "outputs": [],
   "source": [
    "filename = \"./data/assesment_file2_churn.csv\"\n",
    "df = pd.read_csv(filename, sep=\";\")"
   ]
  },
  {
   "cell_type": "code",
   "execution_count": 3,
   "metadata": {},
   "outputs": [
    {
     "data": {
      "text/plain": [
       "MONTH_PERIOD                   0\n",
       "CHURNED_IND                    0\n",
       "COMMERCIALLY_CHURNED           0\n",
       "PAYMENT_IND                    0\n",
       "SAVING_IND                     0\n",
       "INVESTMENTS_IND                0\n",
       "LENDING_IND                    0\n",
       "MORTGAGE_IND                   0\n",
       "INSURANCE_LIFE_IND             0\n",
       "INSURANCE_NONLIFE_IND          0\n",
       "CROSS_SELL_SCORE               0\n",
       "PACKAGE_IND                    0\n",
       "CREDIT_CLASS                   0\n",
       "DEBIT_CLASS                    0\n",
       "BUSINESS_VOLUME_CLASS          0\n",
       "INVESTED_CAPITAL_CLASS         0\n",
       "SAVINGS_CAPITAL_CLASS          0\n",
       "MIN_FEED_CLASS                 0\n",
       "REVENUES_CLASS                 0\n",
       "PAYMENT_ACTIVITIES_CODE        0\n",
       "CLIENTGROUP                    0\n",
       "ACCOUNTMODEL                7013\n",
       "AGE_CLASS                   5292\n",
       "HOMEBANK_COLOUR            15063\n",
       "LOYALITY                   23022\n",
       "TARGET                         0\n",
       "Record_Count                   0\n",
       "CUSTOMER_ID                    0\n",
       "dtype: int64"
      ]
     },
     "execution_count": 3,
     "metadata": {},
     "output_type": "execute_result"
    }
   ],
   "source": [
    "df.isna().sum()"
   ]
  },
  {
   "cell_type": "code",
   "execution_count": 4,
   "metadata": {},
   "outputs": [
    {
     "data": {
      "text/plain": [
       "MONTH_PERIOD                int64\n",
       "CHURNED_IND                 int64\n",
       "COMMERCIALLY_CHURNED        int64\n",
       "PAYMENT_IND                 int64\n",
       "SAVING_IND                  int64\n",
       "INVESTMENTS_IND             int64\n",
       "LENDING_IND                 int64\n",
       "MORTGAGE_IND                int64\n",
       "INSURANCE_LIFE_IND          int64\n",
       "INSURANCE_NONLIFE_IND       int64\n",
       "CROSS_SELL_SCORE            int64\n",
       "PACKAGE_IND                 int64\n",
       "CREDIT_CLASS                int64\n",
       "DEBIT_CLASS                 int64\n",
       "BUSINESS_VOLUME_CLASS       int64\n",
       "INVESTED_CAPITAL_CLASS      int64\n",
       "SAVINGS_CAPITAL_CLASS       int64\n",
       "MIN_FEED_CLASS              int64\n",
       "REVENUES_CLASS              int64\n",
       "PAYMENT_ACTIVITIES_CODE     int64\n",
       "CLIENTGROUP                object\n",
       "ACCOUNTMODEL               object\n",
       "AGE_CLASS                  object\n",
       "HOMEBANK_COLOUR            object\n",
       "LOYALITY                   object\n",
       "TARGET                      int64\n",
       "Record_Count                int64\n",
       "CUSTOMER_ID                 int64\n",
       "dtype: object"
      ]
     },
     "execution_count": 4,
     "metadata": {},
     "output_type": "execute_result"
    }
   ],
   "source": [
    "df.dtypes"
   ]
  },
  {
   "cell_type": "code",
   "execution_count": 5,
   "metadata": {},
   "outputs": [
    {
     "data": {
      "text/plain": [
       "array([99])"
      ]
     },
     "execution_count": 5,
     "metadata": {},
     "output_type": "execute_result"
    }
   ],
   "source": [
    "df[\"TARGET\"].unique()"
   ]
  },
  {
   "cell_type": "code",
   "execution_count": 30,
   "metadata": {},
   "outputs": [
    {
     "data": {
      "text/plain": [
       "array([24])"
      ]
     },
     "execution_count": 30,
     "metadata": {},
     "output_type": "execute_result"
    }
   ],
   "source": [
    "df[\"Record_Count\"].unique()"
   ]
  },
  {
   "cell_type": "code",
   "execution_count": 6,
   "metadata": {},
   "outputs": [],
   "source": [
    "profile = ProfileReport(df, title=\"Churn EDA\")"
   ]
  },
  {
   "cell_type": "code",
   "execution_count": 7,
   "metadata": {},
   "outputs": [
    {
     "name": "stderr",
     "output_type": "stream",
     "text": [
      "Summarize dataset: 100%|███████████████████████████████████████████| 138/138 [00:28<00:00,  4.82it/s, Completed]\n",
      "Generate report structure: 100%|██████████████████████████████████████████████████| 1/1 [00:08<00:00,  8.09s/it]\n",
      "Render HTML: 100%|████████████████████████████████████████████████████████████████| 1/1 [00:02<00:00,  2.51s/it]\n",
      "Export report to file: 100%|█████████████████████████████████████████████████████| 1/1 [00:00<00:00, 123.34it/s]\n"
     ]
    }
   ],
   "source": [
    "profile.to_file(\"./reports/report_ydata.html\")"
   ]
  },
  {
   "cell_type": "code",
   "execution_count": 8,
   "metadata": {},
   "outputs": [
    {
     "name": "stderr",
     "output_type": "stream",
     "text": [
      "Summarize dataset:   0%|                                                                  | 0/5 [00:00<?, ?it/s]/home/ant_on/miniconda3/envs/churn/lib/python3.11/site-packages/ydata_profiling/model/pandas/describe_timeseries_pandas.py:117: FutureWarning: The 'mad' method is deprecated and will be removed in a future version. To compute the same result, you may do `(df - df.mean()).abs().mean()`.\n",
      "  mad = pos_fft_above_med[\"ampl\"].mad()\n",
      "Summarize dataset: 100%|███████████████████████████████████████████| 138/138 [00:51<00:00,  2.68it/s, Completed]\n",
      "Generate report structure: 100%|██████████████████████████████████████████████████| 1/1 [00:09<00:00,  9.51s/it]\n",
      "Render HTML: 100%|████████████████████████████████████████████████████████████████| 1/1 [00:02<00:00,  2.40s/it]\n",
      "Export report to file: 100%|█████████████████████████████████████████████████████| 1/1 [00:00<00:00, 121.20it/s]\n"
     ]
    }
   ],
   "source": [
    "profile_ts = ProfileReport(df, tsmode=True, sortby=\"MONTH_PERIOD\",title=\"Churn EDA\")\n",
    "profile_ts.to_file(\"./reports/report_ts_ydata.html\")"
   ]
  },
  {
   "cell_type": "code",
   "execution_count": 11,
   "metadata": {},
   "outputs": [
    {
     "data": {
      "text/plain": [
       "MONTH_PERIOD               24\n",
       "CHURNED_IND                24\n",
       "COMMERCIALLY_CHURNED       24\n",
       "PAYMENT_IND                24\n",
       "SAVING_IND                 24\n",
       "INVESTMENTS_IND            24\n",
       "LENDING_IND                24\n",
       "MORTGAGE_IND               24\n",
       "INSURANCE_LIFE_IND         24\n",
       "INSURANCE_NONLIFE_IND      24\n",
       "CROSS_SELL_SCORE           24\n",
       "PACKAGE_IND                24\n",
       "CREDIT_CLASS               24\n",
       "DEBIT_CLASS                24\n",
       "BUSINESS_VOLUME_CLASS      24\n",
       "INVESTED_CAPITAL_CLASS     24\n",
       "SAVINGS_CAPITAL_CLASS      24\n",
       "MIN_FEED_CLASS             24\n",
       "REVENUES_CLASS             24\n",
       "PAYMENT_ACTIVITIES_CODE    24\n",
       "CLIENTGROUP                24\n",
       "ACCOUNTMODEL                0\n",
       "AGE_CLASS                   1\n",
       "HOMEBANK_COLOUR             0\n",
       "LOYALITY                    0\n",
       "TARGET                     24\n",
       "Record_Count               24\n",
       "dtype: int64"
      ]
     },
     "execution_count": 11,
     "metadata": {},
     "output_type": "execute_result"
    }
   ],
   "source": [
    "df.groupby(\"CUSTOMER_ID\").count().min()"
   ]
  }
 ],
 "metadata": {
  "kernelspec": {
   "display_name": "Python 3 (ipykernel)",
   "language": "python",
   "name": "python3"
  },
  "language_info": {
   "codemirror_mode": {
    "name": "ipython",
    "version": 3
   },
   "file_extension": ".py",
   "mimetype": "text/x-python",
   "name": "python",
   "nbconvert_exporter": "python",
   "pygments_lexer": "ipython3",
   "version": "3.11.0"
  }
 },
 "nbformat": 4,
 "nbformat_minor": 4
}
